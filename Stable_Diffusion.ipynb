{
  "cells": [
    {
      "cell_type": "markdown",
      "metadata": {
        "id": "jnXUwtACCHOy"
      },
      "source": [
        "# Welcome to Stable Diffusion WebUI 1.4! by [@altryne](https://twitter.com/altryne/) |  [![ko-fi](https://ko-fi.com/img/githubbutton_sm.svg)](https://ko-fi.com/N4N3DWMR1) \n",
        "\n",
        "This colab runs the latest webui version from the repo https://github.com/hlky/stable-diffusion-webui\n",
        "\n",
        "---\n",
        "\n",
        "If this colab helped you, support me on ko-fi and don't forget to subscribe to my awesome list https://github.com/altryne/awesome-ai-art-image-synthesis\n"
      ]
    },
    {
      "cell_type": "markdown",
      "metadata": {
        "id": "4eodrBxeCgOW"
      },
      "source": [
        "## 1 -  Setup stage"
      ]
    },
    {
      "cell_type": "code",
      "execution_count": null,
      "metadata": {
        "id": "cAsdhafsBvEr"
      },
      "outputs": [],
      "source": [
        "!nvidia-smi -L"
      ]
    },
    {
      "cell_type": "markdown",
      "metadata": {},
      "source": [
        "### 1.1 - Install dependencies"
      ]
    },
    {
      "cell_type": "code",
      "execution_count": null,
      "metadata": {},
      "outputs": [],
      "source": [
        "import sys\n",
        "\n",
        "!{sys.executable} -m pip install -e .\n",
        "!conda env update -n base -f environment.yaml "
      ]
    },
    {
      "cell_type": "markdown",
      "metadata": {
        "id": "vhZQqFGxEHcA"
      },
      "source": [
        "### 1.2 Setup Upscalers - CFPGan and ESRGAN\n",
        "\n",
        "**GFPGAN** Automatically correct distorted faces with a built-in GFPGAN option, fixes them in less than half a second\n",
        "\n",
        "**ESRGAN** Boosts the resolution of images with a built-in RealESRGAN option"
      ]
    },
    {
      "cell_type": "code",
      "execution_count": null,
      "metadata": {
        "cellView": "form",
        "id": "M3o7slcTEQvp"
      },
      "outputs": [],
      "source": [
        "add_CFP = True\n",
        "add_ESR = True\n",
        "\n",
        "if add_CFP:\n",
        "    %cd /content/stable-diffusion/src/gfpgan/\n",
        "    !pip install basicsr facexlib yapf lmdb opencv-python pyyaml tb-nightly --no-deps\n",
        "    !python setup.py develop\n",
        "    !pip install realesrgan\n",
        "    !wget https://github.com/TencentARC/GFPGAN/releases/download/v1.3.0/GFPGANv1.3.pth -P experiments/pretrained_models\n",
        "if add_ESR:\n",
        "  %cd /content/stable-diffusion/src/realesrgan/\n",
        "  !wget https://github.com/xinntao/Real-ESRGAN/releases/download/v0.1.0/RealESRGAN_x4plus.pth -P experiments/pretrained_models\n",
        "  !wget https://github.com/xinntao/Real-ESRGAN/releases/download/v0.2.2.4/RealESRGAN_x4plus_anime_6B.pth -P experiments/pretrained_models\n",
        "\n",
        "%cd /content/stable-diffusion/\n",
        "!wget https://github.com/matomo-org/travis-scripts/blob/master/fonts/Arial.ttf?raw=true -O arial.ttf"
      ]
    },
    {
      "cell_type": "markdown",
      "metadata": {},
      "source": [
        "### 1.3 Load the stable-diffusion model"
      ]
    },
    {
      "cell_type": "code",
      "execution_count": null,
      "metadata": {
        "cellView": "form",
        "id": "vkgBVo5OEpqn"
      },
      "outputs": [],
      "source": [
        "models_path = \"/content/models\"\n",
        "output_path = \"/content/output\"\n",
        "\n",
        "import os\n",
        "os.makedirs(models_path, exist_ok=True)\n",
        "os.makedirs(output_path, exist_ok=True)\n",
        "\n",
        "print(f\"models_path: {models_path}\")\n",
        "print(f\"output_path: {output_path}\")"
      ]
    },
    {
      "cell_type": "code",
      "execution_count": null,
      "metadata": {},
      "outputs": [],
      "source": [
        "!wget https://files.mulliken.net/file/mulliken-public-files/stable-diffusion/sd-v1-4.ckpt -O {models_path}/sd-v1-4.ckpt"
      ]
    },
    {
      "cell_type": "markdown",
      "metadata": {
        "id": "Wt_tzv_eJ9Qz"
      },
      "source": [
        "## 2 - Run the Stable Diffusion webui"
      ]
    },
    {
      "cell_type": "markdown",
      "metadata": {
        "id": "ip0o1IqmQNON"
      },
      "source": [
        "### 2.1 Optional - Set webUI settings and configs before running "
      ]
    },
    {
      "cell_type": "code",
      "execution_count": null,
      "metadata": {
        "cellView": "form",
        "id": "3t1DaxIfRmSm"
      },
      "outputs": [],
      "source": [
        "share_password=\"\"\n",
        "\n",
        "defaults=\"configs/webui/webui.yaml\"\n",
        "\n",
        "#@markdown ---\n",
        "save_metadata = False #@param {type:\"boolean\"}\n",
        "#@markdown * Whether to embed the generation parameters in the sample images\n",
        "skip_grid = False #@param {type:\"boolean\"}\n",
        "#@markdown * Do not save a grid, only individual samples. Helpful when evaluating lots of samples\n",
        "skip_save = False #@param {type:\"boolean\"}\n",
        "#@markdown * Do not save individual samples as files. For speed measurements\n",
        "optimized = False #@param {type:\"boolean\"}\n",
        "#@markdown * Load the model onto the device piecemeal instead of all at once to reduce VRAM usage at the cost of performance\n",
        "optimized_turbo = True #@param {type:\"boolean\"}\n",
        "#@markdown * Alternative optimization mode that does not save as much VRAM but runs siginificantly faster\n",
        "no_verify_input = False #@param {type:\"boolean\"}\n",
        "#@markdown * Do not verify input to check if it's too long\n",
        "no_half = False #@param {type:\"boolean\"}\n",
        "#@markdown * Do not switch the model to 16-bit floats\n",
        "no_progressbar_hiding = True #@param {type:\"boolean\"}\n",
        "#@markdown * Do not hide progressbar in gradio UI\n",
        "extra_models_cpu = False #@param {type:\"boolean\"}\n",
        "#@markdown * Run extra models (GFGPAN/ESRGAN) on cpu\n",
        "esrgan_cpu = True #@param {type:\"boolean\"}\n",
        "#@markdown * run ESRGAN on cpu\n",
        "gfpgan_cpu = True #@param {type:\"boolean\"}\n",
        "#@markdown * run GFPGAN on cpu\n",
        "\n",
        "\n",
        "run_string_with_variables = {\n",
        " '--save-metadata': f'{save_metadata}',\n",
        " '--skip-grid': f'{skip_grid}',\n",
        " '--skip-save': f'{skip_save}',\n",
        " '--optimized': f'{optimized}',\n",
        " '--optimized-turbo': f'{optimized_turbo}',\n",
        " '--no-verify-input': f'{no_verify_input}',\n",
        " '--no-half': f'{no_half}',\n",
        " '--no-progressbar-hiding': f'{no_progressbar_hiding}',\n",
        " '--extra-models-cpu': f'{extra_models_cpu}',\n",
        " '--esrgan-cpu': f'{esrgan_cpu}',\n",
        " '--gfpgan-cpu': f'{gfpgan_cpu}'}\n",
        "\n",
        "only_true_vars = {k for (k,v) in run_string_with_variables.items() if v == 'True'}\n",
        "vars = \" \".join(only_true_vars)\n"
      ]
    },
    {
      "cell_type": "markdown",
      "metadata": {
        "id": "E1kYjBY9Rmi-"
      },
      "source": [
        "## 3 - Launch WebUI for stable diffusion\n",
        "\n",
        "Be sure to open the *public link* in another tab to use the webui."
      ]
    },
    {
      "cell_type": "code",
      "execution_count": null,
      "metadata": {
        "cellView": "form",
        "id": "BTH_drY9KZ4k"
      },
      "outputs": [],
      "source": [
        "%cd /content/stable-diffusion\n",
        "!python /content/stable-diffusion/scripts/webui.py \\\n",
        "--ckpt '{models_path}/sd-v1-4.ckpt' \\\n",
        "--outdir '{output_path}' \\\n",
        "--share {vars}\n",
        "\n"
      ]
    }
  ],
  "metadata": {
    "accelerator": "GPU",
    "colab": {
      "collapsed_sections": [
        "4eodrBxeCgOW",
        "RXasLtrYC9uj",
        "MVJzvQGdDn6C",
        "vhZQqFGxEHcA",
        "Wt_tzv_eJ9Qz",
        "ip0o1IqmQNON",
        "E1kYjBY9Rmi-"
      ],
      "machine_shape": "hm",
      "name": "Stable Diffusion WebUi - Altryne",
      "provenance": []
    },
    "gpuClass": "standard",
    "kernelspec": {
      "display_name": "Python 3",
      "name": "python3"
    },
    "language_info": {
      "name": "python"
    }
  },
  "nbformat": 4,
  "nbformat_minor": 0
}
